{
 "cells": [
  {
   "cell_type": "code",
   "execution_count": 3,
   "id": "a2feb490-b735-43c2-923c-2badda1c6343",
   "metadata": {},
   "outputs": [
    {
     "name": "stdout",
     "output_type": "stream",
     "text": [
      "135 Minutes = 2.25 Hour\n"
     ]
    }
   ],
   "source": [
    "minutes = 135\n",
    "hour = minutes / 60\n",
    "print(minutes, \"Minutes =\", round(hour, 2), \"Hour\")"
   ]
  },
  {
   "cell_type": "code",
   "execution_count": null,
   "id": "23d2e00b-74f3-4286-9a97-0fe6f8249d8a",
   "metadata": {},
   "outputs": [],
   "source": []
  }
 ],
 "metadata": {
  "kernelspec": {
   "display_name": "Python 3 (ipykernel)",
   "language": "python",
   "name": "python3"
  },
  "language_info": {
   "codemirror_mode": {
    "name": "ipython",
    "version": 3
   },
   "file_extension": ".py",
   "mimetype": "text/x-python",
   "name": "python",
   "nbconvert_exporter": "python",
   "pygments_lexer": "ipython3",
   "version": "3.12.8"
  }
 },
 "nbformat": 4,
 "nbformat_minor": 5
}
